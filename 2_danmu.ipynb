{
  "nbformat": 4,
  "nbformat_minor": 0,
  "metadata": {
    "colab": {
      "provenance": [],
      "authorship_tag": "ABX9TyOmOIflcDdyqBKaaCBSVfV8",
      "include_colab_link": true
    },
    "kernelspec": {
      "name": "python3",
      "display_name": "Python 3"
    },
    "language_info": {
      "name": "python"
    }
  },
  "cells": [
    {
      "cell_type": "markdown",
      "metadata": {
        "id": "view-in-github",
        "colab_type": "text"
      },
      "source": [
        "<a href=\"https://colab.research.google.com/github/chengchun100/start2/blob/main/2_danmu.ipynb\" target=\"_parent\"><img src=\"https://colab.research.google.com/assets/colab-badge.svg\" alt=\"Open In Colab\"/></a>"
      ]
    },
    {
      "cell_type": "code",
      "execution_count": 1,
      "metadata": {
        "colab": {
          "base_uri": "https://localhost:8080/"
        },
        "id": "U3YQp7LXDWR_",
        "outputId": "c5f14038-004c-425b-b585-15e136acdfef"
      },
      "outputs": [
        {
          "output_type": "execute_result",
          "data": {
            "text/plain": [
              "('damu.txt', <http.client.HTTPMessage at 0x7e57c5278310>)"
            ]
          },
          "metadata": {},
          "execution_count": 1
        }
      ],
      "source": [
        "import urllib.request as req\n",
        "url = \"https://github.com/Elwing-Chou/nanshan1115/raw/main/danmu.txt\"\n",
        "req.urlretrieve(url, \"damu.txt\")"
      ]
    },
    {
      "cell_type": "code",
      "source": [
        "#要把檔案中的字串改為list和字典型態，所以配合json\n",
        "import json\n",
        "f = open(\"damu.txt\", \"r\", encoding=\"utf-8\")\n",
        "danmus = json.load(f)\n",
        "f.close()\n",
        "danmus"
      ],
      "metadata": {
        "id": "4nVf94PaD-YJ"
      },
      "execution_count": null,
      "outputs": []
    },
    {
      "cell_type": "code",
      "source": [
        "#pd.DataFrame型態:表格\n",
        "import pandas as pd\n",
        "df = pd.json_normalize(danmus)\n",
        "df"
      ],
      "metadata": {
        "id": "prui0aQIFLGR"
      },
      "execution_count": null,
      "outputs": []
    }
  ]
}