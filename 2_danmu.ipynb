{
  "nbformat": 4,
  "nbformat_minor": 0,
  "metadata": {
    "colab": {
      "provenance": [],
      "authorship_tag": "ABX9TyNdSMyFvIfzql0qdFxn22SE",
      "include_colab_link": true
    },
    "kernelspec": {
      "name": "python3",
      "display_name": "Python 3"
    },
    "language_info": {
      "name": "python"
    }
  },
  "cells": [
    {
      "cell_type": "markdown",
      "metadata": {
        "id": "view-in-github",
        "colab_type": "text"
      },
      "source": [
        "<a href=\"https://colab.research.google.com/github/chengchun100/start2/blob/main/2_danmu.ipynb\" target=\"_parent\"><img src=\"https://colab.research.google.com/assets/colab-badge.svg\" alt=\"Open In Colab\"/></a>"
      ]
    },
    {
      "cell_type": "code",
      "execution_count": null,
      "metadata": {
        "id": "U3YQp7LXDWR_"
      },
      "outputs": [],
      "source": [
        "import urllib.request as req\n",
        "url = \"https://github.com/Elwing-Chou/nanshan1115/raw/main/danmu.txt\"\n",
        "req.urlretrieve(url, \"damu.txt\")"
      ]
    },
    {
      "cell_type": "code",
      "source": [
        "#要把檔案中的字串改為list和字典型態，所以配合json\n",
        "import json\n",
        "f = open(\"damu.txt\", \"r\", encoding=\"utf-8\")\n",
        "danmus = json.load(f)\n",
        "f.close()\n",
        "danmus"
      ],
      "metadata": {
        "id": "4nVf94PaD-YJ"
      },
      "execution_count": null,
      "outputs": []
    },
    {
      "cell_type": "code",
      "source": [
        "#pd.DataFrame型態:表格\n",
        "import pandas as pd\n",
        "df = pd.json_normalize(danmus)\n",
        "df"
      ],
      "metadata": {
        "id": "prui0aQIFLGR"
      },
      "execution_count": null,
      "outputs": []
    },
    {
      "cell_type": "code",
      "source": [
        "# matplotlib: 基礎的畫圖函式庫\n",
        "# seaborn: 進階畫圖函式庫\n",
        "import matplotlib.pyplot as plt\n",
        "import seaborn as sns\n",
        "#bins是間隔的意思，kde是核修勻，可以看連續時間分布下實際上的熱度\n",
        "sns.histplot(x=df[\"time\"], bins=100, kde=True)"
      ],
      "metadata": {
        "id": "SSLGOOdfGr3X"
      },
      "execution_count": null,
      "outputs": []
    },
    {
      "cell_type": "code",
      "source": [
        "# 1. 表格篩選操作,DataFrame[跟你資料筆數依樣多的True/False]\n",
        "test = pd.DataFrame([\n",
        "    [1,2],\n",
        "    [3,4],\n",
        "    [5,6]\n",
        "])\n",
        "test[[True,False,True]]"
      ],
      "metadata": {
        "id": "ESPCt496c9Pw"
      },
      "execution_count": null,
      "outputs": []
    },
    {
      "cell_type": "code",
      "source": [
        "#pandas第一種型態: DataFrame\n",
        "#第二種型態: Series(只取出一列或是一行)\n",
        "#如果取filter會用到Python內建功能，所以不能拿它當變數\n",
        "#連接兩個篩選條件的方法:而且(&) 或者(|)\n",
        "fil = (df[\"time\"] > 65000) & (df[\"color\"] == \"#FFFFFF\")\n",
        "df[fil]"
      ],
      "metadata": {
        "id": "41v_afFxd6IB"
      },
      "execution_count": null,
      "outputs": []
    },
    {
      "cell_type": "code",
      "source": [
        "#2.轉換操作: apply\n",
        "#型態:字典, 操作[key]\n",
        "#函式也是種型態:函式 e.g.int，小括號是操作出這個功能:(4.2)，所以兩者是可以分開的\n",
        "b = int\n",
        "b(4.2)"
      ],
      "metadata": {
        "id": "vaw7QCxog2Ew"
      },
      "execution_count": null,
      "outputs": []
    },
    {
      "cell_type": "code",
      "source": [
        "def square(n):\n",
        "    ans = n * n\n",
        "    return ans\n",
        "square(4)"
      ],
      "metadata": {
        "id": "MCzjueT9kCzv"
      },
      "execution_count": null,
      "outputs": []
    },
    {
      "cell_type": "code",
      "source": [
        "#接下來示範對表格中的每一個元素都做處理的操作\n",
        "#首先示範Series的轉換操作，建立一個Series後，應用前面寫的平方功能\n",
        "#apply會對表格中每一個元素都進行所定義的功能操作一遍\n",
        "test = pd.Series([1,2,3])\n",
        "test.apply(square)"
      ],
      "metadata": {
        "id": "_hx4cFPpoXEU"
      },
      "execution_count": null,
      "outputs": []
    },
    {
      "cell_type": "code",
      "source": [
        "#這部分的code是先前在介紹jieba時所用的coding\n",
        "import urllib.request as req\n",
        "import jieba\n",
        "\n",
        "url = \"https://github.com/fxsjy/jieba/raw/master/extra_dict/dict.txt.big\"\n",
        "req.urlretrieve(url, \"dict.big\")\n",
        "jieba.set_dictionary(\"dict.big\")"
      ],
      "metadata": {
        "id": "r9fmaoqmp1Y0"
      },
      "execution_count": 38,
      "outputs": []
    },
    {
      "cell_type": "code",
      "source": [
        "#將表格中每一則彈幕的內容進行「分詞」，運用到剛剛介紹的apply(功能)\n",
        "def func(s):\n",
        "    return \" \".join(jieba.cut(s))\n",
        "df[\"text\"] = df[\"text\"].apply(func)\n",
        "df"
      ],
      "metadata": {
        "id": "lWGdPrh_p-B3"
      },
      "execution_count": null,
      "outputs": []
    },
    {
      "cell_type": "code",
      "source": [
        "#把彈幕中所有的分詞作輿情分析，並計算出各詞彙的TF-IDF得分\n",
        "import jieba.analyse\n",
        "article = \"\\n\".join(df[\"text\"])\n",
        "result = jieba.analyse.extract_tags(article, topK=50, withWeight=True)\n",
        "#儲存完result後，透過pandas的功能，將result轉成dataframe\n",
        "keywords = pd.DataFrame(result, columns=[\"keyword\",\"tfidf\"])\n",
        "keywords"
      ],
      "metadata": {
        "id": "fFAB6xV_r3Ec"
      },
      "execution_count": null,
      "outputs": []
    },
    {
      "cell_type": "code",
      "source": [
        "# Colab 進行matplotlib繪圖時顯示繁體中文\n",
        "# 在執行繪圖時，常常會遇到字體變成豆腐字的狀況，代表程式顯示不出來\n",
        "# 這一段程式碼有需要直接複製貼上就好了，不用背起來\n",
        "import matplotlib as mpl\n",
        "import matplotlib.pyplot as plt\n",
        "from matplotlib.font_manager import fontManager\n",
        "\n",
        "url = \"https://drive.google.com/uc?id=1eGAsTN1HBpJAkeVM57_C7ccp7hbgSz3_&export=download\"\n",
        "req.urlretrieve(url, \"TaipeiSansTCBeta-Regular.ttf\")\n",
        "fontManager.addfont('TaipeiSansTCBeta-Regular.ttf')\n",
        "mpl.rc('font', family='Taipei Sans TC Beta')"
      ],
      "metadata": {
        "id": "wxf5ILE4zXBQ"
      },
      "execution_count": 50,
      "outputs": []
    },
    {
      "cell_type": "markdown",
      "source": [
        "title:標題\n",
        "axis:軸\n",
        "label:軸標籤\n",
        "ticks:軸刻度\n",
        "legend:圖例"
      ],
      "metadata": {
        "id": "sY0UEmmK0jM5"
      }
    },
    {
      "cell_type": "code",
      "source": [
        "#plt.figure(figsize=[寬度,高度])\n",
        "plt.figure(figsize=[15,10])\n",
        "sns.barplot(x=keywords[\"keyword\"],\n",
        "      y=keywords[\"tfidf\"])\n",
        "#由於x軸的keywords太擠了，所以要旋轉字體角度，讓每個關鍵字都能被看清楚\n",
        "plt.xticks(rotation=45)"
      ],
      "metadata": {
        "id": "wRvWG2Hyvlxy"
      },
      "execution_count": null,
      "outputs": []
    },
    {
      "cell_type": "code",
      "source": [
        "# DataFrame轉換操作\n",
        "# axis=0 or 1\n",
        "def func(x):\n",
        "    score = x[\"國文\"] * 0.7 + x[\"數學\"] * 0.3\n",
        "    return score\n",
        "\n",
        "test = pd.DataFrame([\n",
        "    [90,60],\n",
        "    [80,70]\n",
        "], columns=[\"國文\",\"數學\"])\n",
        "test[\"平均\"] = test.apply(func, axis=1)\n",
        "test"
      ],
      "metadata": {
        "id": "j4L_WCu33V_2"
      },
      "execution_count": null,
      "outputs": []
    },
    {
      "cell_type": "code",
      "source": [
        "# 找出所有彈幕有大哥，且彈幕顏色為白色(#FFFFFF)的訊息\n",
        "def func(x):\n",
        "    if \"大哥\" in x[\"text\"] and x[\"color\"] == \"#FFFFFF\":\n",
        "        return True\n",
        "    else:\n",
        "        return False\n",
        "# 轉換結合篩選，先判斷每一筆的True, False，再結合到原資料上\n",
        "fil = df.apply(func, axis=1)\n",
        "df[fil]"
      ],
      "metadata": {
        "id": "LwBgBA5s6hS-"
      },
      "execution_count": null,
      "outputs": []
    },
    {
      "cell_type": "code",
      "source": [
        "df[\"userid\"].value_counts()"
      ],
      "metadata": {
        "id": "dm4lZpmw_9SE"
      },
      "execution_count": null,
      "outputs": []
    },
    {
      "cell_type": "code",
      "source": [
        "#找出每個userid發的頭兩個彈幕內容\n",
        "#head是取頭幾筆資料，跟R語言一樣\n",
        "head = df.groupby(\"userid\").head(2)\n",
        "#把處理完的檔案儲存成csv\n",
        "head.to_csv(\"head.csv\", encoding=\"utf-8\")"
      ],
      "metadata": {
        "id": "hKNKdeMPAHW9"
      },
      "execution_count": 69,
      "outputs": []
    },
    {
      "cell_type": "code",
      "source": [
        "#以titanic資料作為練習，準備用Pandas合併這兩份檔案\n",
        "url = \"https://github.com/Elwing-Chou/nanshan1115/raw/main/titanic/train.csv\"\n",
        "req.urlretrieve(url,\"train.csv\")\n",
        "url = \"https://github.com/Elwing-Chou/nanshan1115/raw/main/titanic/test.csv\"\n",
        "req.urlretrieve(url,\"test.csv\")"
      ],
      "metadata": {
        "colab": {
          "base_uri": "https://localhost:8080/"
        },
        "id": "aHqi1w-WHKSi",
        "outputId": "89c8c5d6-e033-4b2c-aec4-a8184d7b0d03"
      },
      "execution_count": 70,
      "outputs": [
        {
          "output_type": "execute_result",
          "data": {
            "text/plain": [
              "('test.csv', <http.client.HTTPMessage at 0x7e5770775900>)"
            ]
          },
          "metadata": {},
          "execution_count": 70
        }
      ]
    },
    {
      "cell_type": "code",
      "source": [
        "#使用Pandas合併檔案，並將合併後檔案匯出\n",
        "train = pd.read_csv(\"train.csv\", encoding=\"utf-8\")\n",
        "test = pd.read_csv(\"test.csv\", encoding=\"utf-8\")\n",
        "combine = pd.concat([train,test], axis=0)\n",
        "combine.to_csv(\"combine.csv\",encoding=\"utf-8\")"
      ],
      "metadata": {
        "id": "WbCFtunQHfCQ"
      },
      "execution_count": 77,
      "outputs": []
    },
    {
      "cell_type": "code",
      "source": [
        "import matplotlib.pyplot as plt\n",
        "import seaborn as sns\n",
        "#hue:增加一組額外的資訊\n",
        "sns.countplot(x=train[\"Sex\"], hue=train[\"Survived\"])\n",
        "plt.savefig(\"plot.png\")"
      ],
      "metadata": {
        "colab": {
          "base_uri": "https://localhost:8080/",
          "height": 449
        },
        "id": "7qJ80LKmKrrp",
        "outputId": "4c6e4c2c-78fe-4c27-bc1c-282c49f19e0f"
      },
      "execution_count": 82,
      "outputs": [
        {
          "output_type": "display_data",
          "data": {
            "text/plain": [
              "<Figure size 640x480 with 1 Axes>"
            ],
            "image/png": "[encoded data removed]"
          },
          "metadata": {}
        }
      ]
    }
  ]
}