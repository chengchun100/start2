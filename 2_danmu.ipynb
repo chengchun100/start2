{
  "nbformat": 4,
  "nbformat_minor": 0,
  "metadata": {
    "colab": {
      "provenance": [],
      "authorship_tag": "ABX9TyN45xhEszKxm32nY5YbMP8r",
      "include_colab_link": true
    },
    "kernelspec": {
      "name": "python3",
      "display_name": "Python 3"
    },
    "language_info": {
      "name": "python"
    }
  },
  "cells": [
    {
      "cell_type": "markdown",
      "metadata": {
        "id": "view-in-github",
        "colab_type": "text"
      },
      "source": [
        "<a href=\"https://colab.research.google.com/github/chengchun100/start2/blob/main/2_danmu.ipynb\" target=\"_parent\"><img src=\"https://colab.research.google.com/assets/colab-badge.svg\" alt=\"Open In Colab\"/></a>"
      ]
    },
    {
      "cell_type": "code",
      "execution_count": null,
      "metadata": {
        "id": "U3YQp7LXDWR_"
      },
      "outputs": [],
      "source": [
        "import urllib.request as req\n",
        "url = \"https://github.com/Elwing-Chou/nanshan1115/raw/main/danmu.txt\"\n",
        "req.urlretrieve(url, \"damu.txt\")"
      ]
    },
    {
      "cell_type": "code",
      "source": [
        "#要把檔案中的字串改為list和字典型態，所以配合json\n",
        "import json\n",
        "f = open(\"damu.txt\", \"r\", encoding=\"utf-8\")\n",
        "danmus = json.load(f)\n",
        "f.close()\n",
        "danmus"
      ],
      "metadata": {
        "id": "4nVf94PaD-YJ"
      },
      "execution_count": null,
      "outputs": []
    },
    {
      "cell_type": "code",
      "source": [
        "#pd.DataFrame型態:表格\n",
        "import pandas as pd\n",
        "df = pd.json_normalize(danmus)\n",
        "df"
      ],
      "metadata": {
        "id": "prui0aQIFLGR"
      },
      "execution_count": null,
      "outputs": []
    },
    {
      "cell_type": "code",
      "source": [
        "# matplotlib: 基礎的畫圖函式庫\n",
        "# seaborn: 進階畫圖函式庫\n",
        "import matplotlib.pyplot as plt\n",
        "import seaborn as sns\n",
        "#bins是間隔的意思，kde是核修勻，可以看連續時間分布下實際上的熱度\n",
        "sns.histplot(x=df[\"time\"], bins=100, kde=True)"
      ],
      "metadata": {
        "id": "SSLGOOdfGr3X"
      },
      "execution_count": null,
      "outputs": []
    },
    {
      "cell_type": "code",
      "source": [
        "# 1. 表格篩選操作,DataFrame[跟你資料筆數依樣多的True/False]\n",
        "test = pd.DataFrame([\n",
        "    [1,2],\n",
        "    [3,4],\n",
        "    [5,6]\n",
        "])\n",
        "test[[True,False,True]]"
      ],
      "metadata": {
        "id": "ESPCt496c9Pw"
      },
      "execution_count": null,
      "outputs": []
    },
    {
      "cell_type": "code",
      "source": [
        "#pandas第一種型態: DataFrame\n",
        "#第二種型態: Series(只取出一列或是一行)\n",
        "#如果取filter會用到Python內建功能，所以不能拿它當變數\n",
        "#連接兩個篩選條件的方法:而且(&) 或者(|)\n",
        "fil = (df[\"time\"] > 65000) & (df[\"color\"] == \"#FFFFFF\")\n",
        "df[fil]"
      ],
      "metadata": {
        "id": "41v_afFxd6IB"
      },
      "execution_count": null,
      "outputs": []
    },
    {
      "cell_type": "code",
      "source": [
        "#2.轉換操作: apply\n",
        "#型態:字典, 操作[key]\n",
        "#函式也是種型態:函式 e.g.int，小括號是操作出這個功能:(4.2)，所以兩者是可以分開的\n",
        "b = int\n",
        "b(4.2)"
      ],
      "metadata": {
        "id": "vaw7QCxog2Ew"
      },
      "execution_count": null,
      "outputs": []
    },
    {
      "cell_type": "code",
      "source": [
        "def square(n):\n",
        "    ans = n * n\n",
        "    return ans\n",
        "square(4)"
      ],
      "metadata": {
        "id": "MCzjueT9kCzv"
      },
      "execution_count": null,
      "outputs": []
    },
    {
      "cell_type": "code",
      "source": [
        "#接下來示範對表格中的每一個元素都做處理的操作\n",
        "#首先示範Series的轉換操作\n",
        "test = pd.Series([1,2,3])\n",
        "test.apply(square)"
      ],
      "metadata": {
        "colab": {
          "base_uri": "https://localhost:8080/"
        },
        "id": "_hx4cFPpoXEU",
        "outputId": "cba39883-c614-4a28-b2ec-7b9a659efcc4"
      },
      "execution_count": 34,
      "outputs": [
        {
          "output_type": "execute_result",
          "data": {
            "text/plain": [
              "0    1\n",
              "1    4\n",
              "2    9\n",
              "dtype: int64"
            ]
          },
          "metadata": {},
          "execution_count": 34
        }
      ]
    }
  ]
}