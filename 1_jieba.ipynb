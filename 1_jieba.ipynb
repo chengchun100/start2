{
  "nbformat": 4,
  "nbformat_minor": 0,
  "metadata": {
    "colab": {
      "provenance": [],
      "authorship_tag": "ABX9TyPNNJX52VDjMVHJYAruEWb+",
      "include_colab_link": true
    },
    "kernelspec": {
      "name": "python3",
      "display_name": "Python 3"
    },
    "language_info": {
      "name": "python"
    }
  },
  "cells": [
    {
      "cell_type": "markdown",
      "metadata": {
        "id": "view-in-github",
        "colab_type": "text"
      },
      "source": [
        "<a href=\"https://colab.research.google.com/github/chengchun100/start2/blob/main/1_jieba.ipynb\" target=\"_parent\"><img src=\"https://colab.research.google.com/assets/colab-badge.svg\" alt=\"Open In Colab\"/></a>"
      ]
    },
    {
      "cell_type": "code",
      "execution_count": 1,
      "metadata": {
        "colab": {
          "base_uri": "https://localhost:8080/"
        },
        "id": "OknrjFj5rUnC",
        "outputId": "12cc54a5-3a32-4fe8-eb3b-6935849c9734"
      },
      "outputs": [
        {
          "output_type": "stream",
          "name": "stdout",
          "text": [
            "Requirement already satisfied: jieba in /usr/local/lib/python3.10/dist-packages (0.42.1)\n"
          ]
        }
      ],
      "source": [
        "#加上!代表不是Python語法，而是呼叫命令列功能\n",
        "!pip install jieba"
      ]
    },
    {
      "cell_type": "code",
      "source": [
        "#如果要對有換行的字串進行儲存，要在前後加上3個雙引號\n",
        "s = \"\"\"APEC峰會（亞太經濟合作組織會議）於美國時間11月11日揭幕，習近平赴美除了參與峰會之外，最受關注的必然是15日的「拜習會」；\n",
        "針對中美元首會晤可能討論的話題，遼寧大學美國與東亞研究院院長呂超向香港中通社表示，可能會針對「經貿合作」、「安全利益」甚至是「台海和平問題」有深入交流。值得一提的是，這也是中美元首於去（2022）年印尼G20峰會後首度會晤。\"\"\""
      ],
      "metadata": {
        "id": "8Ty1bWylxRu6"
      },
      "execution_count": 2,
      "outputs": []
    },
    {
      "cell_type": "code",
      "source": [
        "import jieba\n",
        "c = jieba.cut(s)\n",
        "\" \".join(c)"
      ],
      "metadata": {
        "colab": {
          "base_uri": "https://localhost:8080/",
          "height": 70
        },
        "id": "dlW0F7H_xqvh",
        "outputId": "5f5dae51-3303-403d-a27a-4adae250f351"
      },
      "execution_count": 6,
      "outputs": [
        {
          "output_type": "execute_result",
          "data": {
            "text/plain": [
              "'APEC 峰會 （ 亞太經濟 合作 組織 會議 ） 於 美國 時間 11 月 11 日 揭幕 ， 習近 平 赴美 除了 參與峰 會 之外 ， 最受 關注 的 必然 是 15 日 的 「 拜習 會 」 ； \\n 針對 中 美元 首會晤 可能 討論 的 話題 ， 遼寧大學 美國 與 東亞 研究院 院長 呂超 向 香港 中通社 表示 ， 可能 會針 對 「 經貿 合作 」 、 「 安全 利益 」 甚至 是 「 台海 和平 問題 」 有 深入 交流 。 值得一提的是 ， 這也 是 中 美元 首 於 去 （ 2022 ） 年 印尼 G20 峰會 後 首度 會晤 。'"
            ],
            "application/vnd.google.colaboratory.intrinsic+json": {
              "type": "string"
            }
          },
          "metadata": {},
          "execution_count": 6
        }
      ]
    }
  ]
}